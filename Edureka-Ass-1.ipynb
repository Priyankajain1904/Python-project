{
 "cells": [
  {
   "cell_type": "code",
   "execution_count": 3,
   "id": "b0684867",
   "metadata": {},
   "outputs": [
    {
     "name": "stdout",
     "output_type": "stream",
     "text": [
      "First Array is:  [[0.53394109 0.28574041 0.76230416]\n",
      " [0.69286227 0.5860017  0.75809988]\n",
      " [0.48290301 0.3495055  0.22582818]\n",
      " [0.80230774 0.77200124 0.8761462 ]\n",
      " [0.24716645 0.6193567  0.71132458]]\n",
      "Second Array is:  [[0.76927028 0.53356072]\n",
      " [0.41426771 0.04758924]\n",
      " [0.37434009 0.92168432]]\n",
      "Real Matrix Array is:  [[0.81447905 1.00109195]\n",
      " [1.05954711 1.09630024]\n",
      " [0.60080832 0.48243307]\n",
      " [1.26498333 1.27234906]\n",
      " [0.7129946  0.81696974]]\n"
     ]
    }
   ],
   "source": [
    "'''Problem Statement 1: Write a Python program to multiply a 𝑀 × 𝑁 matrix by 𝑁 × 𝐴 matrix and\n",
    "create a real matrix product.\n",
    "Example:\n",
    "Input:\n",
    "Enter value M: 5\n",
    "Enter value N: 3\n",
    "Enter value A: 2\n",
    "'''\n",
    "\n",
    "import numpy as np\n",
    "a=np.random.random((5,3))\n",
    "print (\"First Array is: \",a)\n",
    "b=np.random.random((3,2))\n",
    "print(\"Second Array is: \",b)\n",
    "c=np.dot(a,b)\n",
    "print(\"Real Matrix Array is: \",c)\n"
   ]
  },
  {
   "cell_type": "code",
   "execution_count": 11,
   "id": "fc6098a3",
   "metadata": {},
   "outputs": [
    {
     "name": "stdout",
     "output_type": "stream",
     "text": [
      "\n",
      "Original Array:\n",
      "['PYTHON' 'PHP' 'JS' 'Examples' 'html5' '5']\n"
     ]
    },
    {
     "ename": "NameError",
     "evalue": "name 'x' is not defined",
     "output_type": "error",
     "traceback": [
      "\u001b[1;31m---------------------------------------------------------------------------\u001b[0m",
      "\u001b[1;31mNameError\u001b[0m                                 Traceback (most recent call last)",
      "Cell \u001b[1;32mIn[11], line 9\u001b[0m\n\u001b[0;32m      7\u001b[0m \u001b[38;5;28mprint\u001b[39m(\u001b[38;5;124m\"\u001b[39m\u001b[38;5;130;01m\\n\u001b[39;00m\u001b[38;5;124mOriginal Array:\u001b[39m\u001b[38;5;124m\"\u001b[39m)\n\u001b[0;32m      8\u001b[0m \u001b[38;5;28mprint\u001b[39m(Original_Array)\n\u001b[1;32m----> 9\u001b[0m a \u001b[38;5;241m=\u001b[39m np\u001b[38;5;241m.\u001b[39mchar\u001b[38;5;241m.\u001b[39misdigit(\u001b[43mx\u001b[49m)\n\u001b[0;32m     10\u001b[0m b \u001b[38;5;241m=\u001b[39m np\u001b[38;5;241m.\u001b[39mchar\u001b[38;5;241m.\u001b[39mislower(x)\n\u001b[0;32m     11\u001b[0m c \u001b[38;5;241m=\u001b[39m np\u001b[38;5;241m.\u001b[39mchar\u001b[38;5;241m.\u001b[39misupper(x)\n",
      "\u001b[1;31mNameError\u001b[0m: name 'x' is not defined"
     ]
    }
   ],
   "source": [
    "'''Problem statement 2: Write a NumPy program to check if each element of an array of your\n",
    "choice is composed of digits, lower case letters, and upper case letters only.\n",
    "Hint: You can use isdigit(),islower(), and isupper() function.\n",
    "'''\n",
    "import numpy as np\n",
    "Original_Array = np.array(['PYTHON', 'PHP', 'JS', 'Examples', 'html5', '5'])\n",
    "print(\"\\nOriginal Array:\")\n",
    "print(Original_Array)\n",
    "a = np.char.isdigit(x)\n",
    "b = np.char.islower(x)\n",
    "c = np.char.isupper(x)\n",
    "print(\"Digits only : \", a)\n",
    "print(\"Lower cases only : \", b)\n",
    "print(\"Upper cases only : \", c)\n",
    "\n",
    "# This pogram is running correctlyin visual basics"
   ]
  },
  {
   "cell_type": "code",
   "execution_count": 13,
   "id": "0050fd7d",
   "metadata": {},
   "outputs": [
    {
     "name": "stdout",
     "output_type": "stream",
     "text": [
      "Enter two space-separated positive integers X and Y: 7 9\n",
      "[0, -2, -4, -6, -8, -10, -12, -14, -16, -18, -20, -22, -24, -26, -28, -30]\n"
     ]
    }
   ],
   "source": [
    "'''Write a program that reads two space-separated positive integers 𝑋 and\n",
    "𝑌 as input and perform the following tasks:\n",
    "Tasks to be performed:\n",
    "1. Create a list (lst1) starting at one (1) with 16 elements at a step of 𝑋\n",
    "2. Create a list (lst2) starting at one (1) with 16 elements at a step of 𝑌\n",
    "3. Create two NumPy arrays np1 and np2 using lst1 and lst2 respectively\n",
    "4. Reshape both the NumPy arrays to (4,4)\n",
    "5. Create a new np array (np3) with values obtained by subtracting both the arrays (np1 -\n",
    "np2)\n",
    "6. Print all the elements of np3 in a single dimension list like the format as shown below:\n",
    "a. [n0 n1 n2 n3 n4 n5 n6 n7 n8]\n",
    "'''\n",
    "\n",
    "import numpy as np\n",
    "\n",
    "# Step 1: Read input values\n",
    "X, Y = map(int, input(\"Enter two space-separated positive integers X and Y: \").split())\n",
    "\n",
    "# Step 2: Create lst1 and lst2\n",
    "lst1 = list(range(1, 16 * X + 1, X))\n",
    "lst2 = list(range(1, 16 * Y + 1, Y))\n",
    "\n",
    "# Step 3: Create np1 and np2 using lst1 and lst2 respectively\n",
    "np1 = np.array(lst1)\n",
    "np2 = np.array(lst2)\n",
    "\n",
    "# Step 4: Reshape both NumPy arrays to (4, 4)\n",
    "np1 = np1.reshape((4, 4))\n",
    "np2 = np2.reshape((4, 4))\n",
    "\n",
    "# Step 5: Create np3 by subtracting np2 from np1\n",
    "np3 = np1 - np2\n",
    "\n",
    "# Step 6: Print the elements of np3 in a single-dimensional list format\n",
    "np3_list = np3.flatten().tolist()\n",
    "print(np3_list)\n"
   ]
  },
  {
   "cell_type": "code",
   "execution_count": 15,
   "id": "87b0cf49",
   "metadata": {},
   "outputs": [
    {
     "name": "stdout",
     "output_type": "stream",
     "text": [
      "Element-wise difference of P and Q (P - Q):\n",
      "[[11 22 33]\n",
      " [-4  4 42]\n",
      " [-2  4  0]]\n"
     ]
    }
   ],
   "source": [
    "'''Problem set 4\n",
    "Write a Python program that takes two integer-NumPy arrays, 𝑃 and 𝑄 of\n",
    "shape [3 ∗ 3] and perform the following task:\n",
    "Task to be performed:\n",
    "Print the element-wise difference of the matrix 𝑃 and 𝑄 (𝑃 − 𝑄).\n",
    "'''\n",
    "\n",
    "import numpy as np\n",
    "\n",
    "# Step 1: Create two NumPy arrays P and Q of shape [3x3]\n",
    "# You can either initialize them with your own values or read them from user input\n",
    "# Here, we'll initialize them with example values for demonstration purposes\n",
    "P = np.array([[23, 56, 87],\n",
    "              [3, 6, 96],\n",
    "              [4, 6, 78]])\n",
    "\n",
    "Q = np.array([[12, 34, 54],\n",
    "              [7, 2, 54],\n",
    "              [6, 2, 78]])\n",
    "\n",
    "# Step 2: Calculate the element-wise difference of P and Q (P - Q)\n",
    "result = P - Q\n",
    "\n",
    "# Step 3: Print the result\n",
    "print(\"Element-wise difference of P and Q (P - Q):\")\n",
    "print(result)\n"
   ]
  },
  {
   "cell_type": "code",
   "execution_count": null,
   "id": "b2b68e4f",
   "metadata": {},
   "outputs": [],
   "source": []
  }
 ],
 "metadata": {
  "kernelspec": {
   "display_name": "Python 3 (ipykernel)",
   "language": "python",
   "name": "python3"
  },
  "language_info": {
   "codemirror_mode": {
    "name": "ipython",
    "version": 3
   },
   "file_extension": ".py",
   "mimetype": "text/x-python",
   "name": "python",
   "nbconvert_exporter": "python",
   "pygments_lexer": "ipython3",
   "version": "3.10.10"
  }
 },
 "nbformat": 4,
 "nbformat_minor": 5
}
